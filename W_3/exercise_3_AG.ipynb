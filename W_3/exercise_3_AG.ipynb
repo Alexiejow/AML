{
 "cells": [
  {
   "cell_type": "markdown",
   "metadata": {},
   "source": [
    "# Exercise week 3\n",
    "\n",
    "This is your 3rd mandatory exercise which must be completed until next week, i.e. 18.09.2023, 10:00. By that time please fill out the checklist on the [learnit page](https://learnit.itu.dk/course/view.php?id=3022225) to indicate which tasks you volunteer to present. \n",
    "You are very welcome to present incomplete solutions and describe what challenges you faced.\n",
    "Please note that if not stated otherwise the programming exercises should be implemented by you, not by using a library. The intention is that you learn the transition from equations to code. Later in the course you are welcome to use programming frameworks. \n",
    "\n",
    "\n",
    "## Task 1: SVM - Theory and Practice \n",
    "NOTE: You are free to choose if you want to solve the with pen and paper only, or via some programming help, as in using wolfram alpha and/or python. If you choose to do the latter, you are still required to implement the equations. \n",
    "The XOR problem consists of four points $\\mathbf{x}_n$, $n=1,\\ldots,4$ from two classes, which are not linearly separable, as follows:\n",
    "\n",
    "class 1: $\\mathbf{x}_1=\\begin{pmatrix} 1\\\\ 1 \\end{pmatrix}$, $\\mathbf{x}_2=\\begin{pmatrix} -1\\\\ -1 \\end{pmatrix}$, with labels $t_1=+1$, $t_2=+1$\n",
    "class 2: $\\mathbf{x}_3=\\begin{pmatrix} -1\\\\ 1 \\end{pmatrix}$, $\\mathbf{x}_4=\\begin{pmatrix} 1\\\\ -1 \\end{pmatrix}$, with labels $t_3=-1$, $t_4=-1$.\n",
    "\n",
    "The goal of this exercise is to compute the discriminant\n",
    "$$g(\\mathbf{x}) = \\mathbf{w}^T \\mathbf{\\phi}(\\mathbf{x}),$$\n",
    "which enables a linear classification in a higher dimension using the basis function $\\mathbf{\\phi}$."
   ]
  },
  {
   "cell_type": "markdown",
   "metadata": {},
   "source": [
    "### a)\n",
    "Draw the points and plot them such that the two different classes can be distinguished (either by color and or marker)."
   ]
  },
  {
   "cell_type": "markdown",
   "metadata": {},
   "source": [
    "### b)\n",
    "\n",
    "Since the points are not linearly separable in 2D, they will be transferred to a higher dimension in an attempt to make them linearly separable in a higher dimension. Use the following basis function to transfer each of the four 2D points to 6D: $\\mathbf{\\phi} :\\mathbb{R}^2 \\rightarrow \\mathbb{R}^6$ \n",
    "\t$$\\mathbf{\\phi}(\\mathbf{x}) = \\mathbf{\\phi} (x_1,x_2) = \\left( 1,~ \\sqrt{2}~ x_1,~ \\sqrt{2}~ x_2,~ \\sqrt{2} ~x_1 x_2 ,~ x_1^2 ,~ x_2^2\\right)^T,$$\n",
    "\t i.e. calculate $\\mathbf{z}_n=\\mathbf{\\phi}(\\mathbf{x}_n)$, $n=1,\\ldots,4=N$. "
   ]
  },
  {
   "cell_type": "markdown",
   "metadata": {},
   "source": [
    "### c)\n",
    "$$\\tilde{L}(\\mathbf{a})=\\tilde{L}\\left(a_1,a_2,a_3,a_4 \\right) =\\sum\\limits_{n=1}^4 a_n -\\frac{1}{2} \\sum\\limits_{m=1}^4 \\sum\\limits_{n=1}^4 a_n a_m t_n t_m \\mathbf{\\phi}(\\mathbf{x}_n)^T\\mathbf{\\phi}(\\mathbf{x}_m),$$\n",
    "where $k(\\mathbf{x}_n,\\mathbf{x}_m)=\\mathbf{\\phi}(\\mathbf{x}_n)^T\\mathbf{\\phi}(\\mathbf{x}_m)$. Note: The values $a_n$ are unknown at this point. A solution for this specific data set will be derived by you in task e. "
   ]
  },
  {
   "cell_type": "markdown",
   "metadata": {},
   "source": [
    "### d)\n",
    "Compute the derivative of $\\tilde{L}(\\mathbf{a} )$ with respect to $a_k$, i.e. the four components of the gradient \n",
    "\t$$\\nabla \\tilde{L}(\\mathbf{a}) =  \\begin{pmatrix} \\frac{\\partial}{\\partial a_1} \\tilde{L}\\left(a_1,a_2,a_3,a_4 \\right) \\\\\t\t\t\t\\frac{\\partial}{\\partial a_2} \\tilde{L}\\left(a_1,a_2,a_3,a_4 \\right)\\\\\t\t\t\t\\frac{\\partial}{\\partial a_3} \\tilde{L}\\left(a_1,a_2,a_3,a_4 \\right)\\\\\t\t\t\t\\frac{\\partial}{\\partial a_4} \\tilde{L}\\left(a_1,a_2,a_3,a_4 \\right) \\end{pmatrix} = \\ldots  $$"
   ]
  },
  {
   "cell_type": "markdown",
   "metadata": {},
   "source": [
    "### e)\n",
    "Derive the equation system from $\\nabla\\tilde{L}(\\mathbf{a})=0$ and solve for $\\mathbf{a}=\\left(a_1,a_2,a_3,a_4 \\right)^T$. \n",
    "\tHint: One example to rewrite a 2D gradient of a function into a non-homogeneous equation system: $$\\nabla f(\\mathbf{x})= \\begin{pmatrix} x_1+3x_2 + b_1\\\\2x_1-x_2+b_2\\end{pmatrix} = \\begin{pmatrix} 1 &3\\\\2& -1\\end{pmatrix}\\begin{pmatrix} x_1\\\\x_2\\end{pmatrix}+ \\begin{pmatrix} b_1\\\\ b_2 \\end{pmatrix}= \\mathbf{A}\\mathbf{x}+\\mathbf{b} \\stackrel{!}{=} \\mathbf{0}$$"
   ]
  },
  {
   "cell_type": "markdown",
   "metadata": {},
   "source": [
    "### f)\n",
    "Which of the four training points are support vectors? How do the values of $a_n$ answer this question? "
   ]
  },
  {
   "cell_type": "markdown",
   "metadata": {},
   "source": [
    "### g)\n",
    "Now that all four values of $\\mathbf{a}$ have been computed, employ Eq.(7.29) to compute $\\mathbf{w}$:\n",
    "\t$$\\mathbf{w} = \\sum_{n=1}^4 a_n  t_n \\mathbf{z}_n = \\sum_{n=1}^4 a_n  t_n \\mathbf{\\phi}(\\mathbf{x}_n) $$\n",
    "\tPlease note: $\\mathbf{w},\\mathbf{z}_n\\in\\mathbb{R}^6$ and $t_n\\in\\mathbb{R}$."
   ]
  },
  {
   "cell_type": "markdown",
   "metadata": {},
   "source": [
    "### h)\n",
    "Give the discriminant function $g$ based on the original input space \n",
    "\t $$g(\\mathbf{x}) = g(x_1,x_2)= \\mathbf{w}^T \\mathbf{\\phi}(\\mathbf{x})= \\ldots$$"
   ]
  },
  {
   "cell_type": "markdown",
   "metadata": {},
   "source": [
    "### i)\n",
    "Apply the discriminant function and compute the resulting values for the training input samples $g(\\mathbf{x}_i)$, $i=1,\\ldots, 4$. How are they classified? Are they correctly classified?"
   ]
  },
  {
   "cell_type": "markdown",
   "metadata": {},
   "source": []
  }
 ],
 "metadata": {
  "kernelspec": {
   "display_name": "local-venv-kernel",
   "language": "python",
   "name": "local-venv-kernel"
  },
  "language_info": {
   "codemirror_mode": {
    "name": "ipython",
    "version": 3
   },
   "file_extension": ".py",
   "mimetype": "text/x-python",
   "name": "python",
   "nbconvert_exporter": "python",
   "pygments_lexer": "ipython3",
   "version": "3.9.12"
  },
  "orig_nbformat": 4
 },
 "nbformat": 4,
 "nbformat_minor": 2
}
